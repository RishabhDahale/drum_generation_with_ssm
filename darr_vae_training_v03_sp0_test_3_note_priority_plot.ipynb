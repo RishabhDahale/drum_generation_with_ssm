{
 "cells": [
  {
   "cell_type": "markdown",
   "metadata": {},
   "source": [
    "# import library"
   ]
  },
  {
   "cell_type": "code",
   "execution_count": 83,
   "metadata": {},
   "outputs": [
    {
     "name": "stdout",
     "output_type": "stream",
     "text": [
      "[info] Current Time:     2019/03/03  13:11:28\n",
      "[info] Python Version:   3.6.5\n",
      "[info] Working Dir:      /host/home/python/musegan_npz/\n"
     ]
    }
   ],
   "source": [
    "# import all library\n",
    "import librosa, IPython, datetime, time, os, sys, copy, dill, mir_eval, glob\n",
    "#import pickle\n",
    "import _pickle as pickle\n",
    "import numpy as np\n",
    "#import pandas as pd\n",
    "#from scipy.spatial.distance import euclidean, pdist, squareform\n",
    "#import IPython.display as ipd\n",
    "#from datetime import datetime\n",
    "from time import gmtime, strftime\n",
    "#from imageio import imread as imread\n",
    "#from imageio import imsave as imsave\n",
    "#import librosa.display\n",
    "import tensorflow as tf\n",
    "from pypianoroll import Multitrack, Track\n",
    "from matplotlib import pyplot as plt\n",
    "#from midiutil.MidiFile import MIDIFile\n",
    "#import ray\n",
    "from ops import *\n",
    "#import pydub\n",
    "#from ADTLib import ADT\n",
    "import matplotlib.pyplot as plt\n",
    "%matplotlib inline\n",
    "\n",
    "# show version info\n",
    "print (\"[info] Current Time:     \" + datetime.datetime.now().strftime('%Y/%m/%d  %H:%M:%S'))\n",
    "print (\"[info] Python Version:   \" + sys.version.split('\\n')[0].split(' ')[0])\n",
    "print (\"[info] Working Dir:      \" + os.getcwd()+'/')\n",
    "\n",
    "# enable gpu usage constraint here\n",
    "fixed_gpu_usage = 0\n",
    "\n",
    "# if gpu usage is constraint, limit certain gpu for use\n",
    "if (fixed_gpu_usage == 1):\n",
    "    # set available GPU\n",
    "    os.environ[\"CUDA_DEVICE_ORDER\"] = \"PCI_BUS_ID\"        # list GPU sequence by PCI bus GPU ID\n",
    "    #os.environ[\"CUDA_VISIBLE_DEVICES\"] = \"0,1,2\"         # 0 for GPU 0(1080Ti), 1 for GPU 1(1080Ti), 2 for GPU 2(2080Ti)\n",
    "    os.environ[\"CUDA_VISIBLE_DEVICES\"] = \"1\"              # 0 for GPU 0(1080Ti), 1 for GPU 1(1080Ti), 2 for GPU 2(2080Ti)\n",
    "\n",
    "    # check available GPU\n",
    "    from tensorflow.python.client import device_lib\n",
    "    for x in range(1, len(device_lib.list_local_devices())):\n",
    "        print (\"[info] GPU \" + device_lib.list_local_devices()[x].physical_device_desc)"
   ]
  },
  {
   "cell_type": "markdown",
   "metadata": {},
   "source": [
    "# Read test s100 index code"
   ]
  },
  {
   "cell_type": "code",
   "execution_count": 84,
   "metadata": {},
   "outputs": [
    {
     "name": "stdout",
     "output_type": "stream",
     "text": [
      "[info] test s100 pkg is loaded.\n",
      "100\n",
      "['00244', '00353', '00367', '00395', '00680']\n",
      "100\n",
      "11338\n",
      "11338\n",
      "['00244000sp0', '00244001sp0', '00244002sp0', '00244003sp0', '00244004sp0']\n"
     ]
    }
   ],
   "source": [
    "# read test s100 data\n",
    "with open('./large_dataset_data/cqt_obj_pkl/song_index_s100_test_list.pkl', 'rb') as pkl_file:        \n",
    "    song_index_s100_test_list_reload = pickle.load(pkl_file)\n",
    "    \n",
    "print ('[info] test s100 pkg is loaded.')\n",
    "\n",
    "s100_song_index_list_test =     song_index_s100_test_list_reload[0]\n",
    "s100_song_bar_num_list_test =   song_index_s100_test_list_reload[1]\n",
    "s100_index_code_list_test =     song_index_s100_test_list_reload[2]\n",
    "\n",
    "print (len(s100_song_index_list_test))\n",
    "print (s100_song_index_list_test[:5])\n",
    "print (len(s100_song_bar_num_list_test))\n",
    "print (np.sum(s100_song_bar_num_list_test))\n",
    "print (len(s100_index_code_list_test))\n",
    "print(s100_index_code_list_test[:5])"
   ]
  },
  {
   "cell_type": "code",
   "execution_count": null,
   "metadata": {},
   "outputs": [],
   "source": []
  },
  {
   "cell_type": "code",
   "execution_count": null,
   "metadata": {},
   "outputs": [],
   "source": []
  },
  {
   "cell_type": "code",
   "execution_count": null,
   "metadata": {},
   "outputs": [],
   "source": []
  },
  {
   "cell_type": "code",
   "execution_count": null,
   "metadata": {},
   "outputs": [],
   "source": []
  },
  {
   "cell_type": "code",
   "execution_count": null,
   "metadata": {},
   "outputs": [],
   "source": []
  },
  {
   "cell_type": "markdown",
   "metadata": {},
   "source": [
    "# check sampled file index"
   ]
  },
  {
   "cell_type": "code",
   "execution_count": 625,
   "metadata": {},
   "outputs": [
    {
     "name": "stdout",
     "output_type": "stream",
     "text": [
      "s100 index:  0\n",
      "s100 index:  8\n",
      "s100 index: 23\n",
      "s100 index: 46\n",
      "s100 index: 76\n"
     ]
    }
   ],
   "source": [
    "print('s100 index: {:2d}'.format(s100_song_index_list_test.index('00244')))\n",
    "print('s100 index: {:2d}'.format(s100_song_index_list_test.index('01247')))\n",
    "print('s100 index: {:2d}'.format(s100_song_index_list_test.index('03216')))\n",
    "print('s100 index: {:2d}'.format(s100_song_index_list_test.index('05184')))\n",
    "print('s100 index: {:2d}'.format(s100_song_index_list_test.index('07942')))\n",
    "pick_song_index_list = [0, 8, 23, 46, 76, 58, 81, 63, 95, 14]\n",
    "\n",
    "\n",
    "pick_song_index = pick_song_index_list[9]\n",
    "model_version = 'v033'\n",
    "add_note_ver = 'p06n'"
   ]
  },
  {
   "cell_type": "markdown",
   "metadata": {},
   "source": [
    "# reload s100 test result"
   ]
  },
  {
   "cell_type": "code",
   "execution_count": 626,
   "metadata": {},
   "outputs": [
    {
     "name": "stdout",
     "output_type": "stream",
     "text": [
      "s100 test data is reloaded.\n"
     ]
    }
   ],
   "source": [
    "# reload test result\n",
    "test_s100_result_fname = './large_dataset_data/model_test_result/{}/test_s100_{}_result_pkg.pkl'.format(model_version, \n",
    "                                                                                                        add_note_ver)\n",
    "\n",
    "chkpt_ver = test_s100_result_fname.split('/')[-1].split('_')[-3]\n",
    "\n",
    "with open(test_s100_result_fname, 'rb') as pkl_file:\n",
    "    test_s100_result_pkg = pickle.load(pkl_file)\n",
    "\n",
    "# reload s100 train test data\n",
    "bar_cqt_data_train_list =        test_s100_result_pkg[0][0]\n",
    "bar_note_num_train_list =        test_s100_result_pkg[0][1]\n",
    "bar_note_num_pred_train_list =   test_s100_result_pkg[0][2]\n",
    "bar_arrange_train_list =         test_s100_result_pkg[0][3]\n",
    "darr_output_train_list =         test_s100_result_pkg[0][4]\n",
    "\n",
    "# reload s100 test test data\n",
    "bar_cqt_data_test_list =         test_s100_result_pkg[1][0]\n",
    "bar_note_num_test_list =         test_s100_result_pkg[1][1]\n",
    "bar_note_num_pred_test_list =    test_s100_result_pkg[1][2]\n",
    "bar_arrange_test_list =          test_s100_result_pkg[1][3]\n",
    "darr_output_test_list =          test_s100_result_pkg[1][4]\n",
    "\n",
    "print ('s100 test data is reloaded.')"
   ]
  },
  {
   "cell_type": "code",
   "execution_count": null,
   "metadata": {},
   "outputs": [],
   "source": []
  },
  {
   "cell_type": "markdown",
   "metadata": {},
   "source": [
    "## show darr output test data format"
   ]
  },
  {
   "cell_type": "code",
   "execution_count": 627,
   "metadata": {},
   "outputs": [
    {
     "name": "stdout",
     "output_type": "stream",
     "text": [
      "s100 test CQT:          (11328, 84, 96)\n",
      "s100 test Drum GT:      (11328, 46, 16)\n",
      "s100 test Drum Model:   (11328, 46, 16)\n"
     ]
    }
   ],
   "source": [
    "bar_cqt_data_test_ary = np.concatenate(bar_cqt_data_test_list, axis=0)\n",
    "bar_arrange_test_ary = np.concatenate(bar_arrange_test_list, axis=0)\n",
    "darr_output_test_ary = np.concatenate(darr_output_test_list, axis=0)\n",
    "darr_output_test_ary_bin = darr_output_test_ary.copy()\n",
    "\n",
    "note_thv = 0.5\n",
    "darr_output_test_ary_bin[darr_output_test_ary_bin>=note_thv] = 1.0\n",
    "darr_output_test_ary_bin[darr_output_test_ary_bin<note_thv] = 0.0\n",
    "\n",
    "print('s100 test CQT:          {}'.format(bar_cqt_data_test_ary.shape))\n",
    "print('s100 test Drum GT:      {}'.format(bar_arrange_test_ary.shape))\n",
    "print('s100 test Drum Model:   {}'.format(darr_output_test_ary.shape))"
   ]
  },
  {
   "cell_type": "markdown",
   "metadata": {},
   "source": [
    "# show s100 test data distribution"
   ]
  },
  {
   "cell_type": "code",
   "execution_count": 628,
   "metadata": {},
   "outputs": [
    {
     "name": "stdout",
     "output_type": "stream",
     "text": [
      "[info] GT data\n",
      "Bar value mean: 0.026878\n",
      "Bar value std: 0.161727\n",
      "\n",
      "[info] Model out bin\n",
      "Bar value mean: 0.022580\n",
      "Bar value std: 0.148559\n"
     ]
    }
   ],
   "source": [
    "print ('[info] GT data')\n",
    "print('Bar value mean: {:.6f}'.format(np.mean(bar_arrange_test_ary)))\n",
    "print('Bar value std: {:.6f}'.format(np.std(bar_arrange_test_ary)))\n",
    "\n",
    "print ('\\n[info] Model out bin')\n",
    "print('Bar value mean: {:.6f}'.format(np.mean(darr_output_test_ary_bin)))\n",
    "print('Bar value std: {:.6f}'.format(np.std(darr_output_test_ary_bin)))"
   ]
  },
  {
   "cell_type": "code",
   "execution_count": null,
   "metadata": {},
   "outputs": [],
   "source": []
  },
  {
   "cell_type": "markdown",
   "metadata": {},
   "source": [
    "# Define function to get complete single song index (start, end)"
   ]
  },
  {
   "cell_type": "code",
   "execution_count": 629,
   "metadata": {},
   "outputs": [
    {
     "name": "stdout",
     "output_type": "stream",
     "text": [
      "Function define done\n"
     ]
    }
   ],
   "source": [
    "s100_song_index_list_test =     song_index_s100_test_list_reload[0]\n",
    "s100_song_bar_num_list_test =   song_index_s100_test_list_reload[1]\n",
    "s100_index_code_list_test =     song_index_s100_test_list_reload[2]\n",
    "\n",
    "def get_test_song_abs_idx(pick_song_index):\n",
    "\n",
    "    song_index_in_s100 = s100_song_index_list_test[pick_song_index]\n",
    "\n",
    "    song_index_all_bars = [x for x in s100_index_code_list_test if x[0:5]==song_index_in_s100]\n",
    "\n",
    "    bar_idx_start = s100_index_code_list_test.index(song_index_all_bars[0])\n",
    "    bar_idx_end = s100_index_code_list_test.index(song_index_all_bars[-1])\n",
    "    \n",
    "    return ([song_index_in_s100, bar_idx_start, bar_idx_end+1])\n",
    "\n",
    "print ('Function define done')"
   ]
  },
  {
   "cell_type": "markdown",
   "metadata": {},
   "source": [
    "# get song 0 drum arrange data"
   ]
  },
  {
   "cell_type": "code",
   "execution_count": 630,
   "metadata": {},
   "outputs": [
    {
     "name": "stdout",
     "output_type": "stream",
     "text": [
      "[info] Song index: 02200\n",
      "[info] Song bars: 154\n",
      "[info] Abs start index: 1670\n",
      "[info] Abs end index: 1824\n",
      "\n",
      "model darr list len: 154\n",
      "darr bar format: (46, 16)\n"
     ]
    }
   ],
   "source": [
    "model_darr_list = []\n",
    "\n",
    "# get complete single song index data\n",
    "pick_song_index = pick_song_index\n",
    "abs_song_idx, abs_idx_start, abs_idx_end = get_test_song_abs_idx(pick_song_index)\n",
    "\n",
    "print ('[info] Song index: {}'.format(abs_song_idx))\n",
    "print ('[info] Song bars: {}'.format(abs_idx_end - abs_idx_start))\n",
    "print ('[info] Abs start index: {}'.format(abs_idx_start))\n",
    "print ('[info] Abs end index: {}'.format(abs_idx_end))\n",
    "print('')\n",
    "\n",
    "# plot complete single song drum arrangement\n",
    "bar_idx_start = abs_idx_start\n",
    "bar_idx_end = abs_idx_end\n",
    "\n",
    "for bar_idx in range(bar_idx_start, bar_idx_end):\n",
    "    \n",
    "    #plot_spectrogram =      bar_cqt_data_test_ary[bar_idx,:,:]\n",
    "    #plot_dataset_gt_darr =  bar_arrange_test_ary[bar_idx,:,:]\n",
    "    plot_model_out_darr =   darr_output_test_ary_bin[bar_idx,:,:]\n",
    "    \n",
    "    model_darr_list.append(plot_model_out_darr)\n",
    "    \n",
    "    \n",
    "print ('model darr list len: {}'.format(len(model_darr_list)))\n",
    "print ('darr bar format: {}'.format(model_darr_list[0].shape))"
   ]
  },
  {
   "cell_type": "markdown",
   "metadata": {},
   "source": [
    "# define reconstruct odrm data function (96, 128)"
   ]
  },
  {
   "cell_type": "code",
   "execution_count": 631,
   "metadata": {},
   "outputs": [
    {
     "name": "stdout",
     "output_type": "stream",
     "text": [
      "keeped Insts: 46\n",
      "get_odrum_shape is defined.\n"
     ]
    }
   ],
   "source": [
    "# keep 99 % of all instrument count (total 46 insts)\n",
    "selected_inst_list_46 = [27, 28, 33, 35, 36, 37, 38, 39, 40, 41, 42, 43, 44, 45, 46, 47, 48, 49, \\\n",
    "                         51, 53, 54, 55, 56, 57, 59, 60, 61, 62, 63, 64, 65, 67, 68, 69, 70, 73, \\\n",
    "                         74, 75, 76, 77, 80, 81, 82, 83, 85, 87]\n",
    "print ('keeped Insts: {}'.format(len(selected_inst_list_46)))\n",
    "\n",
    "def get_odrum_shape(drum_ary_in):    \n",
    "    odrum_data = np.zeros([96,128])\n",
    "    for x in range(0, drum_ary_in.shape[0]):\n",
    "        for y in range(0, drum_ary_in.shape[1]):            \n",
    "            pix_value = drum_ary_in[x,y]\n",
    "            if pix_value>0.5:\n",
    "                odrum_data[y*6, selected_inst_list_46[x]] = 100\n",
    "            \n",
    "    return (odrum_data)\n",
    "\n",
    "print ('get_odrum_shape is defined.')"
   ]
  },
  {
   "cell_type": "markdown",
   "metadata": {},
   "source": [
    "# convert drum data into original shape (96, 128)"
   ]
  },
  {
   "cell_type": "code",
   "execution_count": 632,
   "metadata": {},
   "outputs": [
    {
     "name": "stdout",
     "output_type": "stream",
     "text": [
      "(14784, 128)\n"
     ]
    }
   ],
   "source": [
    "model_darr_odrm_list = [get_odrum_shape(x) for x in model_darr_list]\n",
    "model_darr_odrm_ary = np.concatenate(model_darr_odrm_list, axis=0)\n",
    "print(model_darr_odrm_ary.shape)"
   ]
  },
  {
   "cell_type": "markdown",
   "metadata": {},
   "source": [
    "# find original npz file"
   ]
  },
  {
   "cell_type": "code",
   "execution_count": 633,
   "metadata": {},
   "outputs": [
    {
     "name": "stdout",
     "output_type": "stream",
     "text": [
      "[0, 1, 2, 5, 6, 7, 9, 10, 12, 15, 18, 22]\n",
      "['Pop', 'unknown', 'unknown', 'unknown', 'unknown', 'unknown', 'Country', 'unknown', 'unknown', 'unknown', 'unknown', 'Rock']\n",
      "[8, 15, 15, 15, 15, 15, 1, 15, 15, 15, 15, 13]\n",
      "\n",
      "Genre num: 16\n"
     ]
    }
   ],
   "source": [
    "#Read all npz files\n",
    "#npz_flist = np.sort(glob.glob('./lpd_5_cleansed/**/*.npz', recursive=True)).tolist()\n",
    "#print ('Total files: {}'.format(len(npz_flist)))\n",
    "\n",
    "# show file format\n",
    "#for x in npz_flist[:3]:\n",
    "#    print (x)\n",
    "\n",
    "#with open('./ld_npz_file_name_list.pkl', 'wb') as pkl_file:\n",
    "#    pickle.dump(npz_flist, pkl_file)\n",
    "\n",
    "with open('./ld_npz_file_name_list.pkl', 'rb') as pkl_file:\n",
    "    npz_flist = pickle.load(pkl_file)\n",
    "    \n",
    "# Reload good npz / genre index list\n",
    "file_name = './ld_good_npz_files_genre_info.pkl'\n",
    "with open(file_name, 'rb') as pkl_file:\n",
    "    good_npz_genre_list = pickle.load(pkl_file)\n",
    "    \n",
    "file_unique_genre = good_npz_genre_list[0]\n",
    "file_idx_with_genre_list = good_npz_genre_list[1]\n",
    "file_genre_name_list = good_npz_genre_list[2]\n",
    "file_genre_index_list = good_npz_genre_list[3]\n",
    "\n",
    "#print ('Good npz files: {}'.format(len(file_idx_with_genre_list)))\n",
    "print(file_idx_with_genre_list[:12])\n",
    "print(file_genre_name_list[:12])\n",
    "print(file_genre_index_list[:12])\n",
    "print('')\n",
    "\n",
    "print ('Genre num: {}'.format(len(file_unique_genre)))\n",
    "#for k, x in enumerate(file_unique_genre):\n",
    "#    print('ID: {}, Name: {}'.format(k, x))"
   ]
  },
  {
   "cell_type": "markdown",
   "metadata": {},
   "source": [
    "# Get original NPZ file name"
   ]
  },
  {
   "cell_type": "code",
   "execution_count": 634,
   "metadata": {},
   "outputs": [
    {
     "name": "stdout",
     "output_type": "stream",
     "text": [
      "./lpd_5_cleansed/F/O/M/TRFOMJV128F424EBAC/fa08cc5d36c7ed6c73a2d156c04f582b.npz\n"
     ]
    }
   ],
   "source": [
    "onpz_fname = npz_flist[file_idx_with_genre_list[int(abs_song_idx)]]\n",
    "print (onpz_fname)"
   ]
  },
  {
   "cell_type": "markdown",
   "metadata": {},
   "source": [
    "# ensure DIR"
   ]
  },
  {
   "cell_type": "code",
   "execution_count": 635,
   "metadata": {},
   "outputs": [],
   "source": [
    "def ensure_dir(file_path):\n",
    "    directory = os.path.dirname(file_path)\n",
    "    if not os.path.exists(directory):\n",
    "        os.makedirs(directory)"
   ]
  },
  {
   "cell_type": "markdown",
   "metadata": {},
   "source": [
    "# write midi back on disk"
   ]
  },
  {
   "cell_type": "code",
   "execution_count": 636,
   "metadata": {},
   "outputs": [
    {
     "name": "stdout",
     "output_type": "stream",
     "text": [
      "[info] Show 6 Insts.\n",
      "Instrument(program=0, is_drum=True, name=\"Drums\")\n",
      "Instrument(program=0, is_drum=False, name=\"Piano\")\n",
      "Instrument(program=24, is_drum=False, name=\"Guitar\")\n",
      "Instrument(program=32, is_drum=False, name=\"Bass\")\n",
      "Instrument(program=48, is_drum=False, name=\"Strings\")\n",
      "Instrument(program=5, is_drum=True, name=\"Drums_p06n\")\n",
      "\n",
      "[info] Saving file: \"./large_dataset_data/write_midi_back/v033/song_10k_id_02200_p06n.mid\" ...\n",
      "[info] \"./large_dataset_data/write_midi_back/v033/song_10k_id_02200_p06n.mid\" is saved.\n"
     ]
    }
   ],
   "source": [
    "mtrack_data = Multitrack(onpz_fname)\n",
    "\n",
    "# prepair writen data\n",
    "new_drum_notes = model_darr_odrm_ary\n",
    "    \n",
    "# write drum notes in multitrack object\n",
    "mtrack_data.append_track(track=None, \n",
    "                         pianoroll=new_drum_notes, \n",
    "                         program=5, \n",
    "                         is_drum=True,\n",
    "                         name='Drums_{}'.format(chkpt_ver))\n",
    "\n",
    "# transfer data into pretty midi format\n",
    "pmidi_data = mtrack_data.to_pretty_midi(constant_tempo=None)\n",
    "\n",
    "# print instruments\n",
    "print ('[info] Show {} Insts.'.format(len(pmidi_data.instruments)))\n",
    "for x in pmidi_data.instruments:\n",
    "    print (x)\n",
    "print('')\n",
    "\n",
    "# make all notes in Drums2 velocity=99\n",
    "for instrument in pmidi_data.instruments:\n",
    "    if instrument.program==5:\n",
    "        for note in instrument.notes:\n",
    "            note.velocity = 120\n",
    "\n",
    "\n",
    "# set midi file name to write\n",
    "midi_file_name = './large_dataset_data/write_midi_back/{}/song_10k_id_{}_{}.mid'.format(model_version, \n",
    "                                                                                        abs_song_idx, \n",
    "                                                                                        chkpt_ver)\n",
    "\n",
    "# create folder if not exist\n",
    "ensure_dir(midi_file_name)\n",
    "\n",
    "print('[info] Saving file: \\\"{}\\\" ...'.format(midi_file_name))\n",
    "# write midi file\n",
    "pmidi_data.write(midi_file_name)\n",
    "\n",
    "print ('[info] \\\"{}\\\" is saved.'.format(midi_file_name))"
   ]
  },
  {
   "cell_type": "code",
   "execution_count": null,
   "metadata": {},
   "outputs": [],
   "source": []
  },
  {
   "cell_type": "code",
   "execution_count": null,
   "metadata": {},
   "outputs": [],
   "source": []
  },
  {
   "cell_type": "code",
   "execution_count": null,
   "metadata": {},
   "outputs": [],
   "source": []
  },
  {
   "cell_type": "code",
   "execution_count": null,
   "metadata": {},
   "outputs": [],
   "source": []
  },
  {
   "cell_type": "code",
   "execution_count": null,
   "metadata": {},
   "outputs": [],
   "source": []
  },
  {
   "cell_type": "code",
   "execution_count": null,
   "metadata": {},
   "outputs": [],
   "source": []
  },
  {
   "cell_type": "code",
   "execution_count": null,
   "metadata": {},
   "outputs": [],
   "source": []
  },
  {
   "cell_type": "code",
   "execution_count": null,
   "metadata": {},
   "outputs": [],
   "source": []
  },
  {
   "cell_type": "code",
   "execution_count": null,
   "metadata": {},
   "outputs": [],
   "source": []
  },
  {
   "cell_type": "code",
   "execution_count": null,
   "metadata": {},
   "outputs": [],
   "source": []
  },
  {
   "cell_type": "code",
   "execution_count": null,
   "metadata": {},
   "outputs": [],
   "source": []
  },
  {
   "cell_type": "code",
   "execution_count": null,
   "metadata": {},
   "outputs": [],
   "source": []
  },
  {
   "cell_type": "code",
   "execution_count": null,
   "metadata": {},
   "outputs": [],
   "source": []
  },
  {
   "cell_type": "code",
   "execution_count": null,
   "metadata": {},
   "outputs": [],
   "source": []
  },
  {
   "cell_type": "markdown",
   "metadata": {},
   "source": [
    "# Plot complete single song (index=0)"
   ]
  },
  {
   "cell_type": "code",
   "execution_count": null,
   "metadata": {},
   "outputs": [],
   "source": [
    "# get complete single song index data\n",
    "pick_song_index = \n",
    "abs_song_idx, abs_idx_start, abs_idx_end = get_test_song_abs_idx(pick_song_index)\n",
    "\n",
    "print ('Song index: {}'.format(abs_song_idx))\n",
    "print ('Song bars: {}'.format(abs_idx_end - abs_idx_start))\n",
    "print ('Abs start index: {}'.format(abs_idx_start))\n",
    "print ('Abs end index: {}'.format(abs_idx_end))\n",
    "\n",
    "\n",
    "# plot complete single song drum arrangement\n",
    "bar_idx_start = abs_idx_start\n",
    "bar_idx_end = abs_idx_end\n",
    "#bar_idx_end = abs_idx_start + 32\n",
    "\n",
    "for bar_idx in range(bar_idx_start, bar_idx_end):\n",
    "    \n",
    "    plot_spectrogram =      bar_cqt_data_test_ary[bar_idx,:,:]\n",
    "    plot_dataset_gt_darr =  bar_arrange_test_ary[bar_idx,:,:]\n",
    "    plot_model_out_darr =   darr_output_test_ary_bin[bar_idx,:,:]\n",
    "    \n",
    "    print ('song bar idx: [ {} / {} ]'.format(bar_idx - bar_idx_start + 1, bar_idx_end - bar_idx_start))\n",
    "\n",
    "    plot_data0 = plot_spectrogram\n",
    "    plt.figure(figsize=(16,3))\n",
    "    plt.imshow(plot_data0, interpolation='nearest', origin='lower', aspect='auto', cmap='hot')\n",
    "    plt.grid()\n",
    "    plt.show()\n",
    "\n",
    "    #plot_data1 = np.where(plot_dataset_gt_darr>=0.5,\n",
    "    #                      np.ones_like(plot_dataset_gt_darr),\n",
    "    #                      np.zeros_like(plot_dataset_gt_darr))                      \n",
    "    plot_data1 = plot_dataset_gt_darr\n",
    "                          \n",
    "    plt.figure(figsize=(16,3))\n",
    "    plt.imshow(plot_data1, interpolation='nearest', origin='lower', aspect='auto', cmap='hot')\n",
    "    plt.xticks(np.arange(0, plot_data1.shape[1], 1), rotation=0)\n",
    "    plt.yticks(np.arange(0, plot_data1.shape[0], 2))\n",
    "    #plt.ylim(20,80)\n",
    "    plt.grid()\n",
    "    plt.show()\n",
    "\n",
    "    \n",
    "    plot_data2 = plot_model_out_darr\n",
    "    \n",
    "    plt.figure(figsize=(16,3))\n",
    "    plt.imshow(plot_data2, interpolation='nearest', origin='lower', aspect='auto', cmap='hot')\n",
    "    plt.xticks(np.arange(0, plot_data2.shape[1], 1), rotation=0)\n",
    "    plt.yticks(np.arange(0, plot_data2.shape[0], 2))\n",
    "    #plt.ylim(20,80)\n",
    "    plt.grid()\n",
    "    plt.show()"
   ]
  },
  {
   "cell_type": "code",
   "execution_count": null,
   "metadata": {},
   "outputs": [],
   "source": []
  },
  {
   "cell_type": "code",
   "execution_count": null,
   "metadata": {},
   "outputs": [],
   "source": []
  },
  {
   "cell_type": "code",
   "execution_count": null,
   "metadata": {},
   "outputs": [],
   "source": []
  },
  {
   "cell_type": "code",
   "execution_count": null,
   "metadata": {},
   "outputs": [],
   "source": []
  }
 ],
 "metadata": {
  "kernelspec": {
   "display_name": "Python 3",
   "language": "python",
   "name": "python3"
  },
  "language_info": {
   "codemirror_mode": {
    "name": "ipython",
    "version": 3
   },
   "file_extension": ".py",
   "mimetype": "text/x-python",
   "name": "python",
   "nbconvert_exporter": "python",
   "pygments_lexer": "ipython3",
   "version": "3.6.8"
  }
 },
 "nbformat": 4,
 "nbformat_minor": 2
}
