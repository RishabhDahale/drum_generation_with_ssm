{
 "cells": [
  {
   "cell_type": "markdown",
   "metadata": {},
   "source": [
    "# import library"
   ]
  },
  {
   "cell_type": "code",
   "execution_count": 1,
   "metadata": {},
   "outputs": [
    {
     "name": "stdout",
     "output_type": "stream",
     "text": [
      "[info] Current Time:     2019/03/31  03:03:13\n",
      "[info] Python Version:   3.6.5\n",
      "[info] Working Dir:      /host/home/python/musegan_npz/\n"
     ]
    }
   ],
   "source": [
    "import librosa, IPython, datetime, time, os, sys, copy, dill, pickle, mir_eval, glob\n",
    "import numpy as np\n",
    "import pandas as pd\n",
    "from scipy.spatial.distance import euclidean, pdist, squareform\n",
    "import IPython.display as ipd\n",
    "#from datetime import datetime\n",
    "from time import gmtime, strftime\n",
    "#from imageio import imread as imread\n",
    "#from imageio import imsave as imsave\n",
    "import librosa.display\n",
    "import tensorflow as tf\n",
    "from pypianoroll import Multitrack, Track\n",
    "from matplotlib import pyplot as plt\n",
    "from midiutil.MidiFile import MIDIFile\n",
    "import ray\n",
    "from ops import *\n",
    "#import pydub\n",
    "#from ADTLib import ADT\n",
    "import matplotlib.pyplot as plt\n",
    "%matplotlib inline\n",
    "\n",
    "# show version info\n",
    "print (\"[info] Current Time:     \" + datetime.datetime.now().strftime('%Y/%m/%d  %H:%M:%S'))\n",
    "print (\"[info] Python Version:   \" + sys.version.split('\\n')[0].split(' ')[0])\n",
    "print (\"[info] Working Dir:      \" + os.getcwd()+'/')"
   ]
  },
  {
   "cell_type": "markdown",
   "metadata": {},
   "source": [
    "# define soft one hot function"
   ]
  },
  {
   "cell_type": "code",
   "execution_count": 2,
   "metadata": {},
   "outputs": [
    {
     "name": "stdout",
     "output_type": "stream",
     "text": [
      "[info] One Hot function defined.\n",
      "[info] Test value: \"0.5\".\n",
      "['0.00', '0.22', '4.39', '32.47', '88.25', '88.25', '32.47', '4.39', '0.22', '0.00']\n"
     ]
    },
    {
     "data": {
      "image/png": "[encoded data removed]",
      "text/plain": [
       "<Figure size 432x288 with 1 Axes>"
      ]
     },
     "metadata": {},
     "output_type": "display_data"
    }
   ],
   "source": [
    "import numpy as np\n",
    "from scipy.stats import norm as stats_norm\n",
    "\n",
    "# x input range = (0.0 , 1.0)\n",
    "def get_soft_one_hot(gsoh_x, gsoh_bit_width=10):\n",
    "    \n",
    "    gsoh_x = min(gsoh_x, 1.0)\n",
    "    gsoh_x = max(gsoh_x, 0.0)\n",
    "\n",
    "    gsoh_x_scaled = gsoh_x * (gsoh_bit_width-1.0)\n",
    "    \n",
    "    gsoh_norm_ratio = 1.0 / stats_norm.pdf(0)\n",
    "    \n",
    "    dist_fat_index = 1\n",
    "\n",
    "    gsoh_out_list = [gsoh_norm_ratio * stats_norm.pdf((gsoh_x_scaled-offset)*(1./dist_fat_index)) for offset in range(gsoh_bit_width)]\n",
    "    \n",
    "    gsoh_out_list = [x*100.0 for x in gsoh_out_list]\n",
    "    \n",
    "    return(gsoh_out_list)\n",
    "\n",
    "print ('[info] One Hot function defined.')\n",
    "\n",
    "# show data as example\n",
    "test_value = 0.50\n",
    "\n",
    "print ('[info] Test value: \\\"{}\\\".'.format(test_value))\n",
    "print(['{:.2f}'.format(x) for x in np.array(get_soft_one_hot(test_value))])\n",
    "\n",
    "plt.plot(np.array(get_soft_one_hot(test_value)))\n",
    "plt.show()"
   ]
  },
  {
   "cell_type": "markdown",
   "metadata": {},
   "source": [
    "# define function to load drum data"
   ]
  },
  {
   "cell_type": "code",
   "execution_count": 3,
   "metadata": {},
   "outputs": [
    {
     "name": "stdout",
     "output_type": "stream",
     "text": [
      "24\n",
      "(46, 16)\n",
      "1.0\n",
      "0.0\n",
      "9.0\n"
     ]
    }
   ],
   "source": [
    "file_name = 'song_drum_bar_list_46.pkl'\n",
    "folder_name = './generation_evaluation_dir/cdsed_drum_bar_list_28_46/'\n",
    "full_file_name = folder_name + file_name\n",
    "    \n",
    "with open(full_file_name, 'rb') as pkl_file:\n",
    "    song_drum_bar_list_46 = pickle.load(pkl_file)\n",
    "\n",
    "song_idx = 10\n",
    "bar_idx = 30\n",
    "total_songs = len(song_drum_bar_list_46)\n",
    "\n",
    "print(total_songs)\n",
    "print(song_drum_bar_list_46[song_idx][bar_idx].shape)\n",
    "print (np.max(song_drum_bar_list_46[song_idx][bar_idx]))\n",
    "print (np.min(song_drum_bar_list_46[song_idx][bar_idx]))\n",
    "print (np.round(np.sum(song_drum_bar_list_46[song_idx][bar_idx])))"
   ]
  },
  {
   "cell_type": "code",
   "execution_count": 4,
   "metadata": {},
   "outputs": [],
   "source": [
    "song_bar_note_num_list = []\n",
    "\n",
    "for song_idx in range(0, total_songs):\n",
    "    \n",
    "    bar_num_in_song = len(song_drum_bar_list_46[song_idx])\n",
    "    bar_note_num_list = [np.round(np.sum(song_drum_bar_list_46[song_idx][bar_idx])).astype(np.float32) for bar_idx in range(bar_num_in_song)]\n",
    "    \n",
    "    song_bar_note_num_list.append(bar_note_num_list)"
   ]
  },
  {
   "cell_type": "code",
   "execution_count": 5,
   "metadata": {},
   "outputs": [
    {
     "name": "stdout",
     "output_type": "stream",
     "text": [
      "24\n",
      "140\n",
      "13.0\n"
     ]
    }
   ],
   "source": [
    "print(len(song_bar_note_num_list))\n",
    "print(len(song_bar_note_num_list[10]))\n",
    "print(song_bar_note_num_list[10][50])"
   ]
  },
  {
   "cell_type": "markdown",
   "metadata": {},
   "source": [
    "# loop over files"
   ]
  },
  {
   "cell_type": "code",
   "execution_count": 6,
   "metadata": {},
   "outputs": [
    {
     "name": "stdout",
     "output_type": "stream",
     "text": [
      "[info] Start converstion...\n",
      "[info] 2019/03/31  03:03:19\n",
      "\n",
      "[info] Song processed: 1, bars: 101, T: (10,), S: (16,), P: (101, 10), N: (101,)\n",
      "[info] Song processed: 2, bars: 81, T: (10,), S: (16,), P: (81, 10), N: (81,)\n",
      "[info] Song processed: 3, bars: 91, T: (10,), S: (16,), P: (91, 10), N: (91,)\n",
      "[info] Song processed: 4, bars: 94, T: (10,), S: (16,), P: (94, 10), N: (94,)\n",
      "[info] Song processed: 5, bars: 86, T: (10,), S: (16,), P: (86, 10), N: (86,)\n",
      "[info] Song processed: 6, bars: 84, T: (10,), S: (16,), P: (84, 10), N: (84,)\n",
      "[info] Song processed: 7, bars: 101, T: (10,), S: (16,), P: (101, 10), N: (101,)\n",
      "[info] Song processed: 8, bars: 91, T: (10,), S: (16,), P: (91, 10), N: (91,)\n",
      "[info] Song processed: 9, bars: 88, T: (10,), S: (16,), P: (88, 10), N: (88,)\n",
      "[info] Song processed: 10, bars: 79, T: (10,), S: (16,), P: (79, 10), N: (79,)\n",
      "[info] Song processed: 11, bars: 140, T: (10,), S: (16,), P: (140, 10), N: (140,)\n",
      "[info] Song processed: 12, bars: 68, T: (10,), S: (16,), P: (68, 10), N: (68,)\n",
      "[info] Song processed: 13, bars: 74, T: (10,), S: (16,), P: (74, 10), N: (74,)\n",
      "[info] Song processed: 14, bars: 62, T: (10,), S: (16,), P: (62, 10), N: (62,)\n",
      "[info] Song processed: 15, bars: 109, T: (10,), S: (16,), P: (109, 10), N: (109,)\n",
      "[info] Song processed: 16, bars: 67, T: (10,), S: (16,), P: (67, 10), N: (67,)\n",
      "[info] Song processed: 17, bars: 111, T: (10,), S: (16,), P: (111, 10), N: (111,)\n",
      "[info] Song processed: 18, bars: 95, T: (10,), S: (16,), P: (95, 10), N: (95,)\n",
      "[info] Song processed: 19, bars: 52, T: (10,), S: (16,), P: (52, 10), N: (52,)\n",
      "[info] Song processed: 20, bars: 118, T: (10,), S: (16,), P: (118, 10), N: (118,)\n",
      "[info] Song processed: 21, bars: 140, T: (10,), S: (16,), P: (140, 10), N: (140,)\n",
      "[info] Song processed: 22, bars: 133, T: (10,), S: (16,), P: (133, 10), N: (133,)\n",
      "[info] Song processed: 23, bars: 100, T: (10,), S: (16,), P: (100, 10), N: (100,)\n",
      "[info] Song processed: 24, bars: 146, T: (10,), S: (16,), P: (146, 10), N: (146,)\n",
      "\n",
      "[info] All files are processed.\n",
      "2019/03/31  03:03:23\n"
     ]
    }
   ],
   "source": [
    "print ('[info] Start converstion...')\n",
    "print ('[info] ' + datetime.datetime.now().strftime('%Y/%m/%d  %H:%M:%S') + '\\n')\n",
    "\n",
    "all_merged_attribute_list = []\n",
    "\n",
    "loop_n_files = len(song_bar_note_num_list)\n",
    "\n",
    "for song_idx in range(0, loop_n_files):\n",
    "    \n",
    "    # get soft one hot tempo\n",
    "    tempo_value = 120\n",
    "    tempo_norm_v = (tempo_value - 60.0)*(1.0/90.0)\n",
    "    tempo_norm_v_oh = np.array(get_soft_one_hot(tempo_norm_v))\n",
    "    \n",
    "    # get soft one hot style\n",
    "    style_value = 15\n",
    "    style_tag_array_oh = np.zeros([16])\n",
    "    style_tag_array_oh[style_value] = 100.0\n",
    "    \n",
    "    n_note_in_bars_ary = np.array(song_bar_note_num_list[song_idx])\n",
    "    n_bars_in_song = len(song_drum_bar_list_46[song_idx])\n",
    "    \n",
    "    # get soft one hot progress value\n",
    "    progress_ratio_list = [(x+1)/n_bars_in_song for x in range(n_bars_in_song)]\n",
    "    song_progress_oh = np.array([np.array(get_soft_one_hot(x)) for x in progress_ratio_list])\n",
    "    \n",
    "    #drum_arrange_data = get_drum_arrange_data(song_idx)\n",
    "    \n",
    "    #all_merged_drum_data = [n_bars_in_song,\n",
    "    #                        tempo_norm_v_oh,\n",
    "    #                        style_tag_array_oh,\n",
    "    #                        song_progress_oh,\n",
    "    #                        n_note_in_bars_ary,\n",
    "    #                        drum_arrange_data]\n",
    "    \n",
    "    all_merged_drum_data = [n_bars_in_song,\n",
    "                            tempo_norm_v_oh,\n",
    "                            style_tag_array_oh,\n",
    "                            song_progress_oh,\n",
    "                            n_note_in_bars_ary]\n",
    "    \n",
    "    #tempo_value_list.append(tempo_value)\n",
    "    #style_value_list.append(style_value)\n",
    "    #note_num_list.append(n_note_in_bars_ary)\n",
    "    \n",
    "    all_merged_attribute_list.append(all_merged_drum_data)\n",
    "    \n",
    "\n",
    "    if (song_idx+1)%1==0:\n",
    "        \n",
    "        print ('[info] Song processed: {}, bars: {}, T: {}, S: {}, P: {}, N: {}'.format(song_idx+1, \n",
    "                                                                                        n_bars_in_song, \n",
    "                                                                                        tempo_norm_v_oh.shape,\n",
    "                                                                                        style_tag_array_oh.shape,\n",
    "                                                                                        song_progress_oh.shape,\n",
    "                                                                                        n_note_in_bars_ary.shape))\n",
    "        \n",
    "        \n",
    "    #saving_file_name_final = './large_dataset_data/all_merged_data/all_merged_data_{:0>5}.pkl'.format(song_idx)\n",
    "    #saving_file_name_final = './large_dataset_data/all_merged_data_attribute_only/all_merged_data_atri_{:0>5}.pkl'.format(song_idx)\n",
    "    \n",
    "    #with open(saving_file_name_final, 'wb') as pkl_file:\n",
    "    #    pickle.dump(all_merged_drum_data, pkl_file)\n",
    "        \n",
    "        #print (datetime.datetime.now().strftime('%Y/%m/%d  %H:%M:%S'))\n",
    "\n",
    "print ('\\n[info] All files are processed.')\n",
    "print (datetime.datetime.now().strftime('%Y/%m/%d  %H:%M:%S'))"
   ]
  },
  {
   "cell_type": "markdown",
   "metadata": {},
   "source": [
    "# save all attribute data"
   ]
  },
  {
   "cell_type": "code",
   "execution_count": 7,
   "metadata": {},
   "outputs": [],
   "source": [
    "file_name = 'bm24_all_attribute.pkl'\n",
    "folder_name = './evaluatio_10_songs/'\n",
    "full_file_name = folder_name + file_name\n",
    "    \n",
    "with open(full_file_name, 'wb') as pkl_file:\n",
    "    pickle.dump(all_merged_attribute_list, pkl_file)"
   ]
  },
  {
   "cell_type": "code",
   "execution_count": null,
   "metadata": {},
   "outputs": [],
   "source": []
  },
  {
   "cell_type": "code",
   "execution_count": null,
   "metadata": {},
   "outputs": [],
   "source": []
  }
 ],
 "metadata": {
  "kernelspec": {
   "display_name": "Python 3",
   "language": "python",
   "name": "python3"
  },
  "language_info": {
   "codemirror_mode": {
    "name": "ipython",
    "version": 3
   },
   "file_extension": ".py",
   "mimetype": "text/x-python",
   "name": "python",
   "nbconvert_exporter": "python",
   "pygments_lexer": "ipython3",
   "version": "3.6.8"
  }
 },
 "nbformat": 4,
 "nbformat_minor": 2
}
